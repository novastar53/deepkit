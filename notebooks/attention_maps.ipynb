{
 "cells": [
  {
   "cell_type": "markdown",
   "metadata": {},
   "source": [
    "# Playing with Attention Maps"
   ]
  },
  {
   "cell_type": "code",
   "execution_count": 1,
   "metadata": {},
   "outputs": [
    {
     "name": "stdout",
     "output_type": "stream",
     "text": [
      "Running on darwin\n"
     ]
    }
   ],
   "source": [
    "from typing import Literal\n",
    "import sys\n",
    "\n",
    "import jax\n",
    "\n",
    "platform : Literal[\"darwin\", \"colab\", \"cuda\"] = \"darwin\"\n",
    "\n",
    "try:\n",
    "    import google.colab\n",
    "    platform = \"colab\"\n",
    "except ImportError:\n",
    "    devices = jax.devices()\n",
    "    if any(d.platform == \"gpu\" for d in devices):\n",
    "        platform = \"cuda\"\n",
    "\n",
    "print(f\"Running on {platform}\")\n",
    "\n",
    "if platform == \"colab\":\n",
    "    !git clone https://github.com/novastar53/jaxpt\n",
    "    !cd jaxpt && git checkout main && git pull\n",
    "    !pip install tiktoken --quiet\n",
    "    !pip uninstall -y tensorflow"
   ]
  },
  {
   "cell_type": "code",
   "execution_count": 12,
   "metadata": {},
   "outputs": [
    {
     "name": "stdout",
     "output_type": "stream",
     "text": [
      "(1, 1, 3, 3)\n"
     ]
    }
   ],
   "source": [
    "import jax\n",
    "import jax.numpy as jnp\n",
    "\n",
    "from jaxpt.modules.attention import calc_vanilla_attn\n",
    "\n",
    "key = jax.random.key(42)\n",
    "\n",
    "B, T, C, nh = 1, 3, 8, 2 \n",
    "\n",
    "\n",
    "mask =   jnp.tril(jnp.ones((1, 1, T, T)))\n",
    "\n",
    "q = jax.random.uniform(key, (B, T, nh, C), minval=0, maxval=1)\n",
    "key, subkey = jax.random.split(key)\n",
    "k = jax.random.uniform(subkey, (B, T, nh, C), minval=0, maxval=1)\n",
    "key, subkey = jax.random.split(key)\n",
    "v = jax.random.uniform(subkey, (B, T, nh, C), minval=0, maxval=1)\n",
    "\n",
    "_, att = calc_vanilla_attn(q, k, v, mask)\n",
    "\n",
    "print(att.shape)"
   ]
  },
  {
   "cell_type": "code",
   "execution_count": 13,
   "metadata": {},
   "outputs": [
    {
     "data": {
      "image/png": "[encoded data removed]",
      "text/plain": [
       "<Figure size 640x480 with 2 Axes>"
      ]
     },
     "metadata": {},
     "output_type": "display_data"
    }
   ],
   "source": [
    "import matplotlib.pyplot as plt\n",
    "#plt.style.use('seaborn-v0_8-darkgrid')\n",
    "\n",
    "fig, ax = plt.subplots(1, att.shape[1])\n",
    "att = att.squeeze()\n",
    "\n",
    "# annotate each cell with its value\n",
    "for i in range(att.shape[0]):\n",
    "    for j in range(att.shape[1]):\n",
    "        ax.text(j, i,            # x, y position\n",
    "                f\"{att[i, j]:.2f}\",  # text to display\n",
    "                ha=\"center\",    # horizontal alignment\n",
    "                va=\"center\",    # vertical alignment\n",
    "                color=\"w\")      # choose a contrasting color\n",
    "\n",
    "\n",
    "\n",
    "plt.imshow(att, cmap=\"gray\")\n",
    "plt.colorbar()\n",
    "plt.show()"
   ]
  }
 ],
 "metadata": {
  "kernelspec": {
   "display_name": ".venv",
   "language": "python",
   "name": "python3"
  },
  "language_info": {
   "codemirror_mode": {
    "name": "ipython",
    "version": 3
   },
   "file_extension": ".py",
   "mimetype": "text/x-python",
   "name": "python",
   "nbconvert_exporter": "python",
   "pygments_lexer": "ipython3",
   "version": "3.12.8"
  }
 },
 "nbformat": 4,
 "nbformat_minor": 2
}
